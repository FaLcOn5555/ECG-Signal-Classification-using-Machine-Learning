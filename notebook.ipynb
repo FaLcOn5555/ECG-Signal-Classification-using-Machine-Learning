{
 "cells": [
  {
   "cell_type": "code",
   "execution_count": null,
   "id": "4d94a910",
   "metadata": {},
   "outputs": [],
   "source": [
    "\n",
    "import pandas as pd\n",
    "import numpy as np\n",
    "from sklearn.model_selection import train_test_split\n",
    "from sklearn.ensemble import RandomForestClassifier\n",
    "from sklearn.metrics import accuracy_score, confusion_matrix, classification_report\n",
    "import joblib\n"
   ]
  },
  {
   "cell_type": "code",
   "execution_count": null,
   "id": "85ada120",
   "metadata": {},
   "outputs": [],
   "source": [
    "\n",
    "# Load ECG signal data from CSV-formatted Excel files\n",
    "ptb_abnormal = pd.read_csv(\"data/ptbdb_abnormal.xlsx\")\n",
    "ptb_normal = pd.read_csv(\"data/ptbdb_normal.xlsx\")\n",
    "\n",
    "# Preview the data\n",
    "print(\"Abnormal ECG samples:\")\n",
    "display(ptb_abnormal.head())\n",
    "\n",
    "print(\"\\nNormal ECG samples:\")\n",
    "display(ptb_normal.head())\n"
   ]
  },
  {
   "cell_type": "code",
   "execution_count": null,
   "id": "7c5bbe65",
   "metadata": {},
   "outputs": [],
   "source": [
    "\n",
    "# Label abnormal as 1 and normal as 0\n",
    "ptb_abnormal['label'] = 1\n",
    "ptb_normal['label'] = 0\n",
    "\n",
    "# Merge and shuffle\n",
    "df = pd.concat([ptb_abnormal, ptb_normal], ignore_index=True)\n",
    "df = df.sample(frac=1, random_state=42).reset_index(drop=True)\n",
    "\n",
    "# Check shape and preview\n",
    "print(f\"Dataset shape: {df.shape}\")\n",
    "df.head()\n"
   ]
  },
  {
   "cell_type": "code",
   "execution_count": null,
   "id": "2d574d16",
   "metadata": {},
   "outputs": [],
   "source": [
    "\n",
    "# Separate features and labels\n",
    "X = df.drop('label', axis=1)\n",
    "y = df['label']\n",
    "\n",
    "# Train-test split\n",
    "X_train, X_test, y_train, y_test = train_test_split(X, y, test_size=0.2, random_state=42)\n",
    "\n",
    "# Train Random Forest model\n",
    "model = RandomForestClassifier(n_estimators=100, random_state=42)\n",
    "model.fit(X_train, y_train)\n"
   ]
  },
  {
   "cell_type": "code",
   "execution_count": null,
   "id": "bad41fc2",
   "metadata": {},
   "outputs": [],
   "source": [
    "\n",
    "# Predict\n",
    "y_pred = model.predict(X_test)\n",
    "\n",
    "# Evaluation metrics\n",
    "print(\"Accuracy:\", accuracy_score(y_test, y_pred))\n",
    "print(\"\\nConfusion Matrix:\\n\", confusion_matrix(y_test, y_pred))\n",
    "print(\"\\nClassification Report:\\n\", classification_report(y_test, y_pred))\n"
   ]
  },
  {
   "cell_type": "code",
   "execution_count": null,
   "id": "5056f751",
   "metadata": {},
   "outputs": [],
   "source": [
    "\n",
    "# Save model to file\n",
    "joblib.dump(model, 'ecg_classifier_model.pkl')\n",
    "print(\"✅ Model saved as ecg_classifier_model.pkl\")\n"
   ]
  }
 ],
 "metadata": {},
 "nbformat": 4,
 "nbformat_minor": 5
}
